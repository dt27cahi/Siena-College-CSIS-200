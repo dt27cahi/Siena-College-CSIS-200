{
 "cells": [
  {
   "cell_type": "markdown",
   "metadata": {},
   "source": [
    "If you do any sort of numerical or scientific/technical computing with Python, you will probably make use of numpy and scipy. \n",
    "\n",
    "* [Numpy, numerical Python](http://docs.scipy.org/doc/numpy/reference/)\n",
    "* [Scipy, scientific Python](http://docs.scipy.org/doc/scipy/reference/)\n",
    "\n",
    "There are too many cool features in each, but I will try to show you the most commonly used functions. "
   ]
  },
  {
   "cell_type": "markdown",
   "metadata": {},
   "source": [
    "# Numpy"
   ]
  },
  {
   "cell_type": "code",
   "execution_count": null,
   "metadata": {
    "collapsed": true
   },
   "outputs": [],
   "source": [
    "# The standard practice is to \n",
    "\n",
    "import numpy as np\n",
    "\n",
    "# You only have to do this once per notebook, but make sure you execute the cell in which you do this. "
   ]
  },
  {
   "cell_type": "code",
   "execution_count": null,
   "metadata": {
    "collapsed": false
   },
   "outputs": [],
   "source": [
    "# Arrays\n",
    "\n",
    "# An array is like a list except....\n",
    "# \n",
    "# * It can only be one type of things (all integers, or all floats, or all strings).\n",
    "# * It is *much faster*.\n",
    "# * You can do everything at once without loops!\n",
    "\n",
    "x = np.array([0,1,2,3,4,5,6,7,8,9]) \n",
    "\n",
    "y = 2*x\n",
    "\n",
    "print x\n",
    "print y\n",
    "\n",
    "print \n",
    "\n",
    "# This makes a lot of numerical calculations *much* easier.\n",
    "\n",
    "# Access individual elements the same as lists. \n",
    "\n",
    "print x[7]\n",
    "print y[7]\n",
    "\n",
    "print \n",
    "\n",
    "print x[3:6]"
   ]
  },
  {
   "cell_type": "code",
   "execution_count": null,
   "metadata": {
    "collapsed": false
   },
   "outputs": [],
   "source": [
    "# If you want to do more complicated math functions on arrays you need to get them from numpy, not the math module. \n",
    "\n",
    "x = np.array([4,16,25,81])\n",
    "print x\n",
    "print np.sqrt(x)"
   ]
  },
  {
   "cell_type": "code",
   "execution_count": null,
   "metadata": {
    "collapsed": false
   },
   "outputs": [],
   "source": [
    "# Get a bunch of numbers in an array (we'll use this for plotting later)\n",
    "\n",
    "# linspace(start, end, number of numbers)\n",
    "\n",
    "# This will automatically calculate the \"spacing\" between numbers.\n",
    "\n",
    "x = np.linspace(0,20,2)\n",
    "print x\n",
    "\n",
    "print \n",
    "\n",
    "# Can use floats! (unlike range function from before)\n",
    "x = np.linspace(1.2, 4.5, 10)\n",
    "print x\n",
    "\n",
    "# Be careful! This is not *line*space!"
   ]
  },
  {
   "cell_type": "code",
   "execution_count": null,
   "metadata": {
    "collapsed": false
   },
   "outputs": [],
   "source": [
    "# Can also use arange\n",
    "\n",
    "# arange(start, end, spacing\n",
    "\n",
    "# Similar to range, but returns an array, not a list. Hence \"arange\"\n",
    "\n",
    "x = np.arange(0,10,1)\n",
    "print type(x)\n",
    "print x"
   ]
  },
  {
   "cell_type": "code",
   "execution_count": null,
   "metadata": {
    "collapsed": true
   },
   "outputs": [],
   "source": [
    "# There are also 2D (or 3D) arrays, but we won't get into that right now. "
   ]
  },
  {
   "cell_type": "code",
   "execution_count": null,
   "metadata": {
    "collapsed": false
   },
   "outputs": [],
   "source": [
    "# The random module is very helpful!\n",
    "# It may not seem it now, but for many things you will use it a lot. \n",
    "\n",
    "from numpy import random\n",
    "\n",
    "# Generate a random number between 0-1\n",
    "print \"Generating random number between 0-1\"\n",
    "x = random.random()\n",
    "print x\n",
    "print\n",
    "\n",
    "# Generate 3 random numbers between 0-1\n",
    "print \"Generating 3 random numbers between 0-1\"\n",
    "x = random.random(3)\n",
    "print x\n",
    "print\n",
    "\n",
    "# Generate a random numbers between 2 and 10\n",
    "print \"Generating 3 random numbers between 2-10\"\n",
    "x = 2 + 8*random.random()\n",
    "print x\n",
    "print\n",
    "\n",
    "# Generate 10 random *integers* between 0 and 100\n",
    "print \"Generating 10 random integers between 0-100\"\n",
    "x = random.randint(0,100,10)\n",
    "print x\n",
    "print\n",
    "\n",
    "# There are more, but these will do for now. "
   ]
  },
  {
   "cell_type": "code",
   "execution_count": null,
   "metadata": {
    "collapsed": true
   },
   "outputs": [],
   "source": []
  },
  {
   "cell_type": "markdown",
   "metadata": {},
   "source": [
    "# Scipy"
   ]
  },
  {
   "cell_type": "markdown",
   "metadata": {},
   "source": [
    "The most common thing you will use scipy for is line fitting (you may already be doing this in your Physics class). \n",
    "\n",
    "There is a lot to this subject, and I don't want to risk confusing you, so for the time being I will be passing on this. Though we may return to it, if we have time later in the semester. "
   ]
  },
  {
   "cell_type": "code",
   "execution_count": null,
   "metadata": {
    "collapsed": true
   },
   "outputs": [],
   "source": []
  }
 ],
 "metadata": {
  "kernelspec": {
   "display_name": "Python 2",
   "language": "python",
   "name": "python2"
  },
  "language_info": {
   "codemirror_mode": {
    "name": "ipython",
    "version": 2
   },
   "file_extension": ".py",
   "mimetype": "text/x-python",
   "name": "python",
   "nbconvert_exporter": "python",
   "pygments_lexer": "ipython2",
   "version": "2.7.12"
  }
 },
 "nbformat": 4,
 "nbformat_minor": 0
}
