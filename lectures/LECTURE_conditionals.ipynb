{
 "cells": [
  {
   "cell_type": "markdown",
   "metadata": {},
   "source": [
    "# Conditionals\n",
    "\n",
    "Conditionals refer to have the computer do **something** based on the *conditions* (usually values of variables) at some point in your program. We do this with **if-else** statements. "
   ]
  },
  {
   "cell_type": "code",
   "execution_count": null,
   "metadata": {},
   "outputs": [],
   "source": [
    "# We have 5 ways to compare numbers (or even strings!)\n",
    "# >   greater than\n",
    "# <   less than\n",
    "# >=  greater than or equal to\n",
    "# <=  less than or equal to\n",
    "# ==  equals (keep in mind this is *testing* to see if they are equal)\n",
    "#\n",
    "# These all return a type called a \"boolean\" which is just True or False\n",
    "\n",
    "\n",
    "# Can also test for \"not equal\"\n",
    "# != is true if they are not equal\n"
   ]
  },
  {
   "cell_type": "code",
   "execution_count": null,
   "metadata": {},
   "outputs": [],
   "source": [
    "# You can even define a variable to be boolean!\n"
   ]
  },
  {
   "cell_type": "code",
   "execution_count": null,
   "metadata": {},
   "outputs": [],
   "source": [
    "# Let's try a simple if\n",
    "# Just like loops, everything that is indented is exectued if the statement is *True*\n",
    "# Tracking down these steps of logic can be frustrating and time-consuming if not\n",
    "# done carefully, so take your time and think about what you're doing. \n"
   ]
  },
  {
   "cell_type": "code",
   "execution_count": null,
   "metadata": {},
   "outputs": [],
   "source": [
    "# Can have an else statement. This is what happens if the first one is False. \n"
   ]
  },
  {
   "cell_type": "code",
   "execution_count": null,
   "metadata": {},
   "outputs": [],
   "source": [
    "# We can also use and/or for more options!\n"
   ]
  },
  {
   "cell_type": "code",
   "execution_count": null,
   "metadata": {},
   "outputs": [],
   "source": [
    "# Can also have multiple options, with the elif (else if) statement.\n",
    "#\n",
    "# The syntax is derived from \n",
    "# \"if this do that, else if this other thing then do something else.\" \n"
   ]
  },
  {
   "cell_type": "code",
   "execution_count": null,
   "metadata": {},
   "outputs": [],
   "source": [
    "# Loop over the numbers 1-10. \n",
    "# If the number is less than 4 print some statement saying that. \n",
    "# Otherwise, just print the number. \n"
   ]
  },
  {
   "cell_type": "code",
   "execution_count": null,
   "metadata": {},
   "outputs": [],
   "source": [
    "# Can use this to end a loop early!\n",
    "# Use the \"break\" function to end the loop. \n"
   ]
  },
  {
   "cell_type": "code",
   "execution_count": null,
   "metadata": {},
   "outputs": [],
   "source": [
    "# Let's try some other stuff using the Python input function. \n",
    "# This allows you to ask the user to enter in some data, which the program\n",
    "# will then process. \n"
   ]
  },
  {
   "cell_type": "code",
   "execution_count": null,
   "metadata": {},
   "outputs": [],
   "source": [
    "# Can also have \"nested\" conditionals. That means, that you have sub-decisions to be made. \n"
   ]
  },
  {
   "cell_type": "code",
   "execution_count": null,
   "metadata": {},
   "outputs": [],
   "source": [
    "# We can make use of this with functions built into strings!\n",
    "#\n",
    "# For instance the \"find\" member function returns the index (place) of a given\n",
    "# letter or word in a string. \n",
    "# So it would start at 0 (if it was at the beginning), but is -1 if it doesn't find it.\n",
    "#\n"
   ]
  },
  {
   "cell_type": "code",
   "execution_count": null,
   "metadata": {},
   "outputs": [],
   "source": [
    "# Can use this in a conditional\n"
   ]
  },
  {
   "cell_type": "code",
   "execution_count": null,
   "metadata": {
    "collapsed": true
   },
   "outputs": [],
   "source": []
  }
 ],
 "metadata": {
  "anaconda-cloud": {},
  "kernelspec": {
   "display_name": "Python 3",
   "language": "python",
   "name": "python3"
  },
  "language_info": {
   "codemirror_mode": {
    "name": "ipython",
    "version": 3
   },
   "file_extension": ".py",
   "mimetype": "text/x-python",
   "name": "python",
   "nbconvert_exporter": "python",
   "pygments_lexer": "ipython3",
   "version": "3.6.2"
  }
 },
 "nbformat": 4,
 "nbformat_minor": 1
}
