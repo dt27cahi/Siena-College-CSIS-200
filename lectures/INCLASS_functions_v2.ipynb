{
 "cells": [
  {
   "cell_type": "markdown",
   "metadata": {},
   "source": [
    "These exercises will allow you to test your understanding of **functions** in Python."
   ]
  },
  {
   "cell_type": "code",
   "execution_count": null,
   "metadata": {
    "collapsed": false
   },
   "outputs": [],
   "source": [
    "# Write your own winning percentage function, starting from this starter code.\n",
    "\n",
    "def winning_percentage(wins, losses):\n",
    "    \n",
    "    pct = 0\n",
    "    \n",
    "    return pct\n",
    "\n",
    "# Test your function!\n",
    "print winning_percentage(57,25) # Should be 69.5\n",
    "print winning_percentage(73,9) # Should be 89.0\n"
   ]
  },
  {
   "cell_type": "code",
   "execution_count": null,
   "metadata": {
    "collapsed": false
   },
   "outputs": [],
   "source": [
    "# Write a function that takes the value of your assets, revenue, liabilities, and expenses\n",
    "# and calculates both net worth and your net income (revenue - expenses)\n",
    "\n",
    "def financial_statement(assets,revenue,liabilities,expenses):\n",
    "    \n",
    "    net_worth = 0\n",
    "    net_income = 0 \n",
    "    \n",
    "    return net_worth,net_income\n",
    "\n",
    "nw,income = financial_statement(224000,45000,110000,28000)\n",
    "\n",
    "print \"My net worth is %d\\nMy net income is %d\" % (nw,income)"
   ]
  },
  {
   "cell_type": "code",
   "execution_count": null,
   "metadata": {
    "collapsed": true
   },
   "outputs": [],
   "source": []
  }
 ],
 "metadata": {
  "anaconda-cloud": {},
  "kernelspec": {
   "display_name": "Python [default]",
   "language": "python",
   "name": "python2"
  },
  "language_info": {
   "codemirror_mode": {
    "name": "ipython",
    "version": 2
   },
   "file_extension": ".py",
   "mimetype": "text/x-python",
   "name": "python",
   "nbconvert_exporter": "python",
   "pygments_lexer": "ipython2",
   "version": "2.7.12"
  }
 },
 "nbformat": 4,
 "nbformat_minor": 0
}
