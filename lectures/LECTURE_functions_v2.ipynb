{
 "cells": [
  {
   "cell_type": "markdown",
   "metadata": {},
   "source": [
    "# Functions\n",
    "\n",
    "**Functions** are pieces of code that you can reuse simply by calling the name of the function. This saves time and keeps your code neat, by not requiring you to cut-and-paste a whole bunch of lines of code if you want to do the same calculation multiple times. "
   ]
  },
  {
   "cell_type": "code",
   "execution_count": null,
   "metadata": {
    "collapsed": false
   },
   "outputs": [],
   "source": [
    "# Write a function to take in two numbers (called \"arguments\") and add them together. \n",
    "# \n",
    "# We use \"def\" to call something a function. It's short for \"define\"\n",
    "        "
   ]
  },
  {
   "cell_type": "code",
   "execution_count": null,
   "metadata": {
    "collapsed": false
   },
   "outputs": [],
   "source": [
    "# In Python (unlike some other languages), you can return more than one value! \n",
    "# \n",
    "# That is hugely useful sometimes. \n",
    "#\n",
    "# In the following example, \"meters\" is the only argument. \n",
    "\n",
    "\n",
    "\n",
    "\n",
    "f,m = meters2feetandmiles(1000)\n",
    "print \"feet: %.2f    miles: %.2f\" % (f,m)\n",
    "\n",
    "print\n",
    "\n",
    "f,m = meters2feetandmiles(6000)\n",
    "print \"feet: %.2f    miles: %.2f\" % (f,m)"
   ]
  },
  {
   "cell_type": "code",
   "execution_count": null,
   "metadata": {
    "collapsed": false
   },
   "outputs": [],
   "source": [
    "# Functions don't *have* to return a value. \n",
    "\n",
    "\n",
    "    \n",
    "makehappy(\"I'm tired\")\n",
    "print \n",
    "makehappy(\"When is class over?\")"
   ]
  },
  {
   "cell_type": "code",
   "execution_count": null,
   "metadata": {
    "collapsed": true
   },
   "outputs": [],
   "source": [
    "# You can use functions for most anything! A good way to save some time and save yourself\n",
    "# from copying your code over and over again. "
   ]
  },
  {
   "cell_type": "code",
   "execution_count": null,
   "metadata": {
    "collapsed": true
   },
   "outputs": [],
   "source": [
    "# Note that any variables that are *defined* in the function are \n",
    "# *only* usable *in* the function.\n"
   ]
  },
  {
   "cell_type": "code",
   "execution_count": null,
   "metadata": {
    "collapsed": false
   },
   "outputs": [],
   "source": [
    "# Can also have \"named\" arguments. These have to come *after* the normal, unnamed arguments. \n",
    "# \n",
    "# You can give these a \"default\" option, which is used if nothing is passed in. \n",
    "# This *only* works for named arguments.\n",
    "\n",
    "def add_and_subtract(x=10,y=5):\n",
    "    \n",
    "    a = 0 # Intitialize the variable.\n",
    "    s = 0\n",
    "\n",
    "    return a,s\n",
    "\n",
    "\n",
    "a,b = add_and_subtract() # If there is nothing in the parenthesis, use the default values in the function.\n",
    "print \"%f %f\" % (a,b)\n",
    "\n",
    "a,b = add_and_subtract(x=18, y=32) \n",
    "print \"%f %f\" % (a,b)\n",
    "\n",
    "# Can you reverse the order of named arguments?"
   ]
  },
  {
   "cell_type": "code",
   "execution_count": null,
   "metadata": {
    "collapsed": true
   },
   "outputs": [],
   "source": []
  }
 ],
 "metadata": {
  "kernelspec": {
   "display_name": "Python 2",
   "language": "python",
   "name": "python2"
  },
  "language_info": {
   "codemirror_mode": {
    "name": "ipython",
    "version": 2
   },
   "file_extension": ".py",
   "mimetype": "text/x-python",
   "name": "python",
   "nbconvert_exporter": "python",
   "pygments_lexer": "ipython2",
   "version": "2.7.12"
  }
 },
 "nbformat": 4,
 "nbformat_minor": 0
}
