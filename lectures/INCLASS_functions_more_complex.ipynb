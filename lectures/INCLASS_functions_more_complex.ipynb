{
 "cells": [
  {
   "cell_type": "markdown",
   "metadata": {},
   "source": [
    "These exercises will allow you to test your understanding of **functions** in Python."
   ]
  },
  {
   "cell_type": "code",
   "execution_count": null,
   "metadata": {
    "collapsed": true
   },
   "outputs": [],
   "source": [
    "# Write a function that *either* adds or subtracts two numbers based on a boolean variable you pass in.\n",
    "#\n",
    "# The input should be:\n",
    "# * The first number\n",
    "# * The second number\n",
    "# * A variable called \"subtract\". If subtract is True, subtract the second number from the first. \n",
    "#                                 If it is False, then add the two numbers\n",
    "# ** Give subtract the default value of False\n",
    "#\n",
    "# The function should return either the sum or difference (depending on what it calculates)\n",
    "\n",
    "def add_or_subtract():\n",
    "    \n",
    "\n",
    "print add_or_subtract(15,10,subtract=True)\n",
    "print add_or_subtract(15,10,subtract=False)\n",
    "print add_or_subtract(15,10) # Not passing in last argument!\n",
    "            "
   ]
  },
  {
   "cell_type": "code",
   "execution_count": null,
   "metadata": {
    "collapsed": false
   },
   "outputs": [],
   "source": [
    "# Write your own factorial function, starting from this starter code.\n",
    "# \n",
    "# The input should be the number you're calculating the factorial of.\n",
    "#\n",
    "# The return value (output) should be the the factorial of that number. \n",
    "\n",
    "def myfactorial():\n",
    "    \n",
    "    fac = 0\n",
    "    \n",
    "    return fac\n",
    "\n",
    "# Test your function!\n",
    "print myfactorial(4) # Should be 24\n",
    "print myfactorial(8) # Should be 40320\n"
   ]
  },
  {
   "cell_type": "code",
   "execution_count": null,
   "metadata": {
    "collapsed": false
   },
   "outputs": [],
   "source": [
    "# Write a function that takes your name and returns how many letters are \n",
    "# in your name, along with how many vowels are in your name.\n",
    "\n",
    "def length_and_vowels():\n",
    "    \n",
    "    nletters = 0\n",
    "    nvowels = 0\n",
    "    \n",
    "    return nletters,nvowels\n",
    "\n",
    "name = \"YOURNAMEHERE\"\n",
    "nl,nv = length_and_vowels(name)\n",
    "print \"There are %d letters and %d vowels in %s\" % (nl,nv,name)"
   ]
  },
  {
   "cell_type": "code",
   "execution_count": null,
   "metadata": {
    "collapsed": true
   },
   "outputs": [],
   "source": []
  }
 ],
 "metadata": {
  "anaconda-cloud": {},
  "kernelspec": {
   "display_name": "Python [default]",
   "language": "python",
   "name": "python2"
  },
  "language_info": {
   "codemirror_mode": {
    "name": "ipython",
    "version": 2
   },
   "file_extension": ".py",
   "mimetype": "text/x-python",
   "name": "python",
   "nbconvert_exporter": "python",
   "pygments_lexer": "ipython2",
   "version": "2.7.12"
  }
 },
 "nbformat": 4,
 "nbformat_minor": 0
}
