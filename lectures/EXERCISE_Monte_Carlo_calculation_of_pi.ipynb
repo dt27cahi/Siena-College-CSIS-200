{
 "cells": [
  {
   "cell_type": "markdown",
   "metadata": {},
   "source": [
    "# Calculating $\\pi$ using Monte Carlo techniques\n",
    "\n",
    "In this exercise, you will find that you can calculate the value of $\\pi$ using Monte Carlo techniques.\n",
    "\n",
    "It is counterintuitive (at least it is to me!) that you can get to $\\pi$ using random numbers, but there you are!\n",
    "\n",
    "## Area of a square and circle\n",
    "\n",
    "Consider a quarter circle of $r=1$ inscribed in a square of side $l=1$."
   ]
  },
  {
   "cell_type": "code",
   "execution_count": 1,
   "metadata": {},
   "outputs": [],
   "source": [
    "import numpy as np\n",
    "import matplotlib.pylab as plt\n",
    "%matplotlib notebook\n",
    "\n",
    "# Draw a circle in the square (with a plot)"
   ]
  },
  {
   "cell_type": "markdown",
   "metadata": {},
   "source": [
    "What is the area of the quarter circle $A_{qc}$?\n",
    "\n",
    "\n",
    "\n",
    "What is the area of the square $A_s$ if the length of a side is r?\n",
    "\n",
    "\n",
    "Use this information to solve for $\\pi$ in terms of the area of the quarter circle and the square.\n",
    "\n",
    "\n"
   ]
  },
  {
   "cell_type": "markdown",
   "metadata": {},
   "source": [
    "## Estimate the area by \"throwing\" random points.\n",
    "\n",
    "You should be able to see that if I generate a random number (or coordinate) and I want to see if that number falls within a certain area, the bigger the area the greater chance there is that the random number is **inside** that area. \n",
    "\n",
    "The number of points that is within some area then is proportional to the area!\n",
    "\n",
    "Let $N_s$ be random points in the square and $N_{qc}$ be random points in the quarter circle. \n",
    "\n",
    "$$\\frac{A_{qc}}{A_s} \\propto \\frac{N_{qc}}{N_s}$$\n",
    "\n",
    "and for large numbers of points, this becomes closer and closer to being exact!"
   ]
  },
  {
   "cell_type": "markdown",
   "metadata": {},
   "source": [
    "## Generate random points in the square\n",
    "\n",
    "We do this by generating random $x$ and $y$ coordinates and then plotting them. "
   ]
  },
  {
   "cell_type": "code",
   "execution_count": null,
   "metadata": {},
   "outputs": [],
   "source": [
    "npts = 1000\n",
    "\n",
    "# Your code here"
   ]
  },
  {
   "cell_type": "markdown",
   "metadata": {},
   "source": [
    "## Pick out the points that fall within the quarter circle.\n"
   ]
  },
  {
   "cell_type": "code",
   "execution_count": null,
   "metadata": {},
   "outputs": [],
   "source": [
    "# Your code here"
   ]
  },
  {
   "cell_type": "markdown",
   "metadata": {},
   "source": [
    "## Now calculate $\\pi$ using the number of points to estimate the areas"
   ]
  },
  {
   "cell_type": "code",
   "execution_count": null,
   "metadata": {},
   "outputs": [],
   "source": [
    "# Your code here"
   ]
  },
  {
   "cell_type": "markdown",
   "metadata": {},
   "source": [
    "## Use only the random numbers to estimate $\\pi$ but don't plot them"
   ]
  },
  {
   "cell_type": "code",
   "execution_count": null,
   "metadata": {},
   "outputs": [],
   "source": [
    "# Your code here"
   ]
  }
 ],
 "metadata": {
  "kernelspec": {
   "display_name": "Python 3",
   "language": "python",
   "name": "python3"
  },
  "language_info": {
   "codemirror_mode": {
    "name": "ipython",
    "version": 3
   },
   "file_extension": ".py",
   "mimetype": "text/x-python",
   "name": "python",
   "nbconvert_exporter": "python",
   "pygments_lexer": "ipython3",
   "version": "3.6.2"
  }
 },
 "nbformat": 4,
 "nbformat_minor": 1
}
