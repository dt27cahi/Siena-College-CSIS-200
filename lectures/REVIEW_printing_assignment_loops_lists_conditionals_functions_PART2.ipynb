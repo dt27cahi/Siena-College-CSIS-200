{
 "cells": [
  {
   "cell_type": "markdown",
   "metadata": {},
   "source": [
    "# Review\n",
    "\n",
    "A review of the first third of the course, covering\n",
    "* Printing\n",
    "* Comments\n",
    "* Assignment\n",
    "* Lists\n",
    "* Loops\n",
    "* Conditionals\n",
    "* Functions"
   ]
  },
  {
   "cell_type": "markdown",
   "metadata": {},
   "source": [
    "## Prob 1\n",
    "\n",
    "Reference a specific position in a string or list."
   ]
  },
  {
   "cell_type": "code",
   "execution_count": null,
   "metadata": {
    "collapsed": true
   },
   "outputs": [],
   "source": [
    "letters = \"ABCDEFG\"\n",
    "# print out the D and the F from this string. Use whatever print formatting you like. \n"
   ]
  },
  {
   "cell_type": "markdown",
   "metadata": {
    "collapsed": true
   },
   "source": [
    "## Prob 2\n",
    "\n",
    "Using the same list of letters, create a string spelling \"FACE\", building it up using letters from the above string. \n",
    "\n",
    "Reference the letters in the same way as the previous step. "
   ]
  },
  {
   "cell_type": "code",
   "execution_count": null,
   "metadata": {
    "collapsed": true
   },
   "outputs": [],
   "source": [
    "# Use this empty string as the starting point to fill it with \"FACE\"\n",
    "word = \"\""
   ]
  },
  {
   "cell_type": "markdown",
   "metadata": {},
   "source": [
    "## Prob 3\n",
    "\n",
    "Suppose someone sent you the following string (text) that represents their phone number. Pull out their area code and the rest of the numbers of their phone number and store them as **integers**."
   ]
  },
  {
   "cell_type": "code",
   "execution_count": null,
   "metadata": {
    "collapsed": true
   },
   "outputs": [],
   "source": [
    "# Your code here. \n",
    "phonenumber = \"(518)-555-7635\"\n",
    "\n",
    "# Use these as the variables you will use to store the numbers.\n",
    "areacode = 0\n",
    "number_as_integer = 0"
   ]
  },
  {
   "cell_type": "markdown",
   "metadata": {},
   "source": [
    "## Prob 4\n",
    "\n",
    "Oh no! Someone has accidentally stored 4 phone numbers in one string. You need to pull out the area code for each of the numbers, store them as integers, and store them in a list. Print the final list to the screen.\n",
    "\n",
    "*Hint! Make use of a loop and the fact that the phone numbers are stored in a regularly spaced fashion.*"
   ]
  },
  {
   "cell_type": "code",
   "execution_count": null,
   "metadata": {
    "collapsed": true
   },
   "outputs": [],
   "source": [
    "# Your code here. \n",
    "phonenumbers = \"(518)-555-7635, (407)-555-9827, (650)-555-4721, (202)-555-5521\"\n",
    "\n",
    "areacodes = []\n"
   ]
  },
  {
   "cell_type": "code",
   "execution_count": null,
   "metadata": {
    "collapsed": true
   },
   "outputs": [],
   "source": []
  }
 ],
 "metadata": {
  "kernelspec": {
   "display_name": "Python 3",
   "language": "python",
   "name": "python3"
  },
  "language_info": {
   "codemirror_mode": {
    "name": "ipython",
    "version": 3
   },
   "file_extension": ".py",
   "mimetype": "text/x-python",
   "name": "python",
   "nbconvert_exporter": "python",
   "pygments_lexer": "ipython3",
   "version": "3.6.2"
  }
 },
 "nbformat": 4,
 "nbformat_minor": 1
}
