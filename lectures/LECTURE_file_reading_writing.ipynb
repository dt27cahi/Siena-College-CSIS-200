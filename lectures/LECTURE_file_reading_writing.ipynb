{
 "cells": [
  {
   "cell_type": "markdown",
   "metadata": {},
   "source": [
    "In this lecture we will examine different ways to write to and read from files. This can be useful when you have thousands or millions of numbers that you need to read from a file or store somewhere for later analysis. "
   ]
  },
  {
   "cell_type": "markdown",
   "metadata": {},
   "source": [
    "# Open (write)"
   ]
  },
  {
   "cell_type": "code",
   "execution_count": null,
   "metadata": {
    "collapsed": true
   },
   "outputs": [],
   "source": [
    "# The open function is built into Python.\n",
    "#\n",
    "# Usage:\n",
    "# file = open('FILENAME','MODE')\n",
    "# \n",
    "# where MODE can be 'r' for read, 'w' for 'write' (erases any file with that name), or 'a' for append.\n",
    "#\n",
    "# You can then write strings to a file. \n",
    "# \n",
    "\n",
    "# Open the file\n",
    "outfile = open('simpledata.dat','w')\n",
    "\n",
    "# Write some data. Make sure you have the end-of-line symbol '\\n' at the end of each line.\n",
    "output = \"This is data you might be interested in\\n\"\n",
    "outfile.write(output)\n",
    "\n",
    "# Write some more data\n",
    "output = \"1 2 3 4 5 6 7 8 9\\n\"\n",
    "outfile.write(output)\n",
    "\n",
    "# Close the file\n",
    "outfile.close()\n",
    "\n",
    "# Now go look at this file from the main Jupyter file listing."
   ]
  },
  {
   "cell_type": "markdown",
   "metadata": {},
   "source": [
    "# Open (read)\n",
    "## Reading each line yourself\n",
    "\n",
    "We can then read the file and print each line.\n"
   ]
  },
  {
   "cell_type": "code",
   "execution_count": null,
   "metadata": {},
   "outputs": [],
   "source": [
    "infile = open('simpledata.dat','r') # Open it in read mode\n",
    "\n",
    "# Loop over each line\n",
    "\n",
    "for line in infile:\n",
    "    print(line)"
   ]
  },
  {
   "cell_type": "code",
   "execution_count": null,
   "metadata": {},
   "outputs": [],
   "source": [
    "# If you want to pull out information from each line, you can use the split function. \n",
    "# For example, pull out the second column of numbers from the file, data0.dat.\n",
    "# Take a look at it from the file listing first. \n",
    "\n",
    "infile = open('data0.dat','r')\n",
    "\n",
    "# Use the numbers list to hold the data you want. \n",
    "numbers = []\n",
    "for line in infile:\n",
    "    \n",
    "    values = line.split() # Returns a list of strings\n",
    "    print(values)\n",
    "    \n",
    "    numbers.append(int(values[1]))\n",
    "    \n",
    "print(numbers)\n",
    "\n",
    "# Note that the numbers list is of integers, rather than a string."
   ]
  },
  {
   "cell_type": "markdown",
   "metadata": {},
   "source": [
    "# Using csv module\n",
    "\n",
    "A fairly common format for data files is .csv, Comma-Separated Values. \n",
    "\n",
    "Fortunately, there is even a module that helps pull out the information. "
   ]
  },
  {
   "cell_type": "code",
   "execution_count": null,
   "metadata": {},
   "outputs": [],
   "source": [
    "import csv\n",
    "\n",
    "# Note the explicit use of the delimiter argument. \n",
    "infile = open('data1.csv','r')\n",
    "rows = csv.reader(infile,delimiter=',')\n",
    "\n",
    "# This takes care of the 'split'\n",
    "for row in rows:\n",
    "    print(row)"
   ]
  },
  {
   "cell_type": "markdown",
   "metadata": {},
   "source": [
    "# Using numpy.loadtxt\n",
    "\n",
    "There are some very nice features in numpy to do this kind of stuff for uniformly formatted data. \n",
    "\n",
    "That is, datafiles where the columns are well-defined and have the same type of quantity in them (float, str, etc.). This is the case for many files you will ever work with. \n",
    "\n",
    "* [numpy.loadtxt](http://docs.scipy.org/doc/numpy/reference/generated/numpy.loadtxt.html#numpy.loadtxt)\n",
    "* [numpy.savetxt](http://docs.scipy.org/doc/numpy/reference/generated/numpy.savetxt.html#numpy.savetxt)\n",
    "\n",
    "These are generally my go-to for data files. "
   ]
  },
  {
   "cell_type": "code",
   "execution_count": null,
   "metadata": {},
   "outputs": [],
   "source": [
    "import numpy as np\n",
    "\n",
    "# skiprows. Use this if there are \"header\" rows that explain the data.\n",
    "# unpack=True. Use this if you want to read the data out as columns, not rows. Usually this is what we want. \n",
    "\n",
    "columns = np.loadtxt('data1.csv',delimiter=',',skiprows=0,unpack=True)\n",
    "\n",
    "print(columns[1])\n",
    "print(type(columns[1]))\n",
    "\n",
    "# Note that these are all read in as floats, the default option.\n",
    "#\n",
    "# Also, the columns are numpy arrays, not lists! This is very helpful!"
   ]
  },
  {
   "cell_type": "code",
   "execution_count": null,
   "metadata": {},
   "outputs": [],
   "source": [
    "# Let's try it with a different file. \n",
    "# Take a look at it first from the file listing. \n",
    "\n",
    "# Using demographics.csv file from \n",
    "# http://evc-cit.info/psych018/r_intro/r_intro5.html\n",
    "\n",
    "# Uncomment the following and run it, just to see the error.\n",
    "#columns = np.loadtxt('demographics.csv',delimiter=',',skiprows=1,unpack=True)\n",
    "\n",
    "# Because some columns have letters (M or F), it cannot interpret them all as numbers. \n",
    "# So we need to tell loadtxt to first read in *everything* as a string and then we'll convert it afterwards.\n",
    "\n",
    "columns = np.loadtxt('demographics.csv',delimiter=',',skiprows=1,unpack=True,dtype='str')\n",
    "\n",
    "print(columns[1])\n",
    "\n",
    "print()\n",
    "\n",
    "# Make use of the astype() function of arrays. This doesn't change the array itself,\n",
    "# but will return a version of the array as a different type. \n",
    "\n",
    "x = columns[1].astype('float')\n",
    "\n",
    "print(x)"
   ]
  },
  {
   "cell_type": "code",
   "execution_count": null,
   "metadata": {},
   "outputs": [],
   "source": [
    "# You can even \"slice up arrays\" using conditionals on other arrays! \n",
    "# So long as they are the same length. \n",
    "\n",
    "gender = columns[0]\n",
    "weight = columns[4].astype(float)\n",
    "\n",
    "print(gender) \n",
    "print(weight)"
   ]
  },
  {
   "cell_type": "code",
   "execution_count": null,
   "metadata": {},
   "outputs": [],
   "source": [
    "# Make a list of booleans of True or False if the person is male (ismale)\n",
    "\n",
    "ismale = gender==\"M\"\n",
    "print(ismale)\n"
   ]
  },
  {
   "cell_type": "code",
   "execution_count": null,
   "metadata": {},
   "outputs": [],
   "source": [
    "# Now use it!\n",
    "\n",
    "print(\"All weights\")\n",
    "print(weight)\n",
    "print() \n",
    "print(\"Male weights\")\n",
    "print(weight[ismale])\n",
    "print()\n",
    "print(\"Female weights\")\n",
    "print(weight[ismale==False]) # Female"
   ]
  },
  {
   "cell_type": "code",
   "execution_count": null,
   "metadata": {
    "collapsed": true
   },
   "outputs": [],
   "source": []
  }
 ],
 "metadata": {
  "kernelspec": {
   "display_name": "Python 3",
   "language": "python",
   "name": "python3"
  },
  "language_info": {
   "codemirror_mode": {
    "name": "ipython",
    "version": 3
   },
   "file_extension": ".py",
   "mimetype": "text/x-python",
   "name": "python",
   "nbconvert_exporter": "python",
   "pygments_lexer": "ipython3",
   "version": "3.6.2"
  }
 },
 "nbformat": 4,
 "nbformat_minor": 1
}
