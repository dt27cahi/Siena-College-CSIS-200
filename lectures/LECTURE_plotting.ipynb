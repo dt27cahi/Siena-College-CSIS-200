{
 "cells": [
  {
   "cell_type": "markdown",
   "metadata": {},
   "source": [
    "You are often called upon to make plots of your data. You will do this with the matplotlib library. \n",
    "\n",
    "* [Matplotlib website](http://matplotlib.org/)\n",
    "\n",
    "You can see all the different types of plots in their comprehensive [gallery](http://matplotlib.org/gallery.html). Click on any of the plots to see the Python code that made it. \n",
    "\n",
    "We will focus on the 3 most common plots you will most likely make.\n",
    "\n",
    "* A normal scatter plot (used to plot math functions as well). \n",
    "* A scatter plot with error bars.\n",
    "* A histogram. \n",
    "\n",
    "For all of these however, you should know how to \n",
    "\n",
    "* Label the x- and y-axes.\n",
    "* Change the ranges on the x- and y-axes, if necessary.\n",
    "* Change the fontsize on them.\n",
    "* Add a legend.\n",
    "* Add a title to the plot."
   ]
  },
  {
   "cell_type": "code",
   "execution_count": null,
   "metadata": {
    "collapsed": true
   },
   "outputs": [],
   "source": [
    "# First we import the matplotlib plotting tools in the suggested fashion.\n",
    "\n",
    "import matplotlib.pylab as plt\n",
    "\n",
    "# This next line makes sure the plots appear in the Notebook, and not as separate windows.\n",
    "%matplotlib notebook"
   ]
  },
  {
   "cell_type": "markdown",
   "metadata": {},
   "source": [
    "# plot\n",
    "\n",
    "[Documentation](http://matplotlib.org/api/pyplot_api.html?highlight=plot#matplotlib.pyplot.plot)"
   ]
  },
  {
   "cell_type": "code",
   "execution_count": null,
   "metadata": {
    "collapsed": false
   },
   "outputs": [],
   "source": [
    "# Test data\n",
    "import numpy as np\n",
    "\n",
    "npts = 10 # The number of data points\n",
    "x = 5*np.random.random(npts)\n",
    "y = 2*np.random.random(npts)"
   ]
  },
  {
   "cell_type": "code",
   "execution_count": null,
   "metadata": {
    "collapsed": false
   },
   "outputs": [],
   "source": [
    "# Plots x vs y.\n",
    "# 'bo'. Use blue ('b') dots ('o') as the markers.\n",
    "# markersize=20 increases size of dots. \n",
    "# label. This will be used in the legend.\n",
    "\n",
    "plt.figure() # Make a figure (empty plot)\n",
    "plt.plot(x,y,'bo',markersize=10,label='My test data')\n",
    "\n",
    "# Add labels with a bigger font than the default.\n",
    "plt.xlabel('This is the x-axis',fontsize=18)\n",
    "plt.ylabel('This is the y-axis',fontsize=18)\n",
    "\n",
    "# Change the plotting range for the xlimits (xlim) and ylimits (ylim).\n",
    "plt.xlim(-2,7)\n",
    "plt.ylim(-1,3)\n",
    "\n",
    "# Add a title\n",
    "plt.title(\"This is a test plot\")\n",
    "\n",
    "# Add a legend.\n",
    "plt.legend()"
   ]
  },
  {
   "cell_type": "code",
   "execution_count": null,
   "metadata": {
    "collapsed": false
   },
   "outputs": [],
   "source": [
    "# We can also use this to plot functions, using the numpy linspace function. \n",
    "# Here we just calculate a bunch of x- and y-plots and connect them with a line.\n",
    "\n",
    "# Plots x vs y.\n",
    "# 'r-'. Use a red ('r') line ('-').\n",
    "# label. This will be used in the legend.\n",
    "\n",
    "x = np.linspace(0,10,1000) # Generate 1000 evenly spaced points.\n",
    "y0 = np.cos(x)\n",
    "y1 = np.sin(x)\n",
    "\n",
    "plt.figure() # Make a figure (empty plot)\n",
    "plt.plot(x,y0,'r-',linewidth=2,label='cosine function')\n",
    "plt.plot(x,y1,'b-',linewidth=2,label='sine function')\n",
    "\n",
    "# Add labels with a bigger font than the default.\n",
    "plt.xlabel('This is the x-axis',fontsize=18)\n",
    "plt.ylabel('This is the y-axis',fontsize=18)\n",
    "\n",
    "# Add a title\n",
    "plt.title(\"Trigonometric functions\")\n",
    "\n",
    "# Add a legend.\n",
    "plt.legend()"
   ]
  },
  {
   "cell_type": "markdown",
   "metadata": {},
   "source": [
    "# Error bars\n",
    "\n",
    "[Documentation](http://matplotlib.org/api/pyplot_api.html?highlight=errorbar#matplotlib.pyplot.errorbar)"
   ]
  },
  {
   "cell_type": "code",
   "execution_count": null,
   "metadata": {
    "collapsed": true
   },
   "outputs": [],
   "source": [
    "# Test data\n",
    "\n",
    "npts = 20 # The number of data points\n",
    "x = 5*np.random.random(npts)\n",
    "y = 2*np.random.random(npts)\n",
    "\n",
    "# Generate fake error bars between 0-0.5\n",
    "yuncertainty = 0.5*np.random.random(npts)"
   ]
  },
  {
   "cell_type": "code",
   "execution_count": null,
   "metadata": {
    "collapsed": false
   },
   "outputs": [],
   "source": [
    "# Plots x vs y.\n",
    "# fmt='b^'. Use blue ('b') triangles ('^') as the markers.\n",
    "# markersize=5 decreases size of dots. \n",
    "# label. This will be used in the legend.\n",
    "\n",
    "plt.figure() # Make a figure (empty plot)\n",
    "plt.errorbar(x,y,yerr=yuncertainty,fmt='b^',markersize=5,label='My test data')\n",
    "\n",
    "# Add labels with a bigger font than the default.\n",
    "plt.xlabel('This is the x-axis',fontsize=18)\n",
    "plt.ylabel('This is the y-axis',fontsize=18)\n",
    "\n",
    "# Add a legend.\n",
    "plt.legend()"
   ]
  },
  {
   "cell_type": "markdown",
   "metadata": {},
   "source": [
    "# Histograms\n",
    "\n",
    "[Documentation](http://matplotlib.org/api/pyplot_api.html?highlight=hist#matplotlib.pyplot.hist)"
   ]
  },
  {
   "cell_type": "code",
   "execution_count": null,
   "metadata": {
    "collapsed": false
   },
   "outputs": [],
   "source": [
    "# A histogram tells you how much you have of certain values in your data. \n",
    "\n",
    "# Test data (don't worry about the details of what this data is for now)\n",
    "\n",
    "x = np.random.normal(5,1,1000)\n",
    "print len(x)\n",
    "print x[0:10]"
   ]
  },
  {
   "cell_type": "code",
   "execution_count": null,
   "metadata": {
    "collapsed": false
   },
   "outputs": [],
   "source": [
    "# Histogram of your x data.\n",
    "# bins=100. Use 100 bins\n",
    "# range=(0,10). Make the histogram range from 0-10. Then you know that each bin is 0.1 wide ((10-0)/100), otherwise\n",
    "#               it uses the min and max range of the data. \n",
    "# color='green'\n",
    "# histtype=stepfilled. This gets rid of the lines between the bins. I like it this way. \n",
    "# label='My test data'. For the legend.\n",
    "# Could also play with transparency if there was more than one. \n",
    "\n",
    "plt.figure() # Make a figure (empty plot)\n",
    "plt.hist(x,bins=100,range=(0,10),color='green',histtype='stepfilled',label='My test data')\n",
    "\n",
    "# Add labels with a bigger font than the default.\n",
    "plt.xlabel('This is the x-axis',fontsize=18)\n",
    "plt.ylabel('This is the y-axis',fontsize=18)\n",
    "\n",
    "# Change the plotting range for the xlimits (xlim) and ylimits (ylim).\n",
    "plt.xlim(0,10)\n",
    "\n",
    "# Add a title\n",
    "plt.title(\"This is a test histogram\")\n",
    "\n",
    "# Add a legend.\n",
    "plt.legend()"
   ]
  },
  {
   "cell_type": "code",
   "execution_count": null,
   "metadata": {
    "collapsed": true
   },
   "outputs": [],
   "source": []
  }
 ],
 "metadata": {
  "kernelspec": {
   "display_name": "Python 2",
   "language": "python",
   "name": "python2"
  },
  "language_info": {
   "codemirror_mode": {
    "name": "ipython",
    "version": 2
   },
   "file_extension": ".py",
   "mimetype": "text/x-python",
   "name": "python",
   "nbconvert_exporter": "python",
   "pygments_lexer": "ipython2",
   "version": "2.7.12"
  }
 },
 "nbformat": 4,
 "nbformat_minor": 0
}
