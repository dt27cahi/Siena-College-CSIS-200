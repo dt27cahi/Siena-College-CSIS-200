{
 "cells": [
  {
   "cell_type": "markdown",
   "metadata": {},
   "source": [
    "# Review\n",
    "\n",
    "A review of the first third of the course, covering\n",
    "* Printing\n",
    "* Comments\n",
    "* Assignment\n",
    "* Lists\n",
    "* Loops\n",
    "* Conditionals\n",
    "* Functions"
   ]
  },
  {
   "cell_type": "markdown",
   "metadata": {},
   "source": [
    "## Prob 1\n",
    "\n",
    "Do you know how to open a blank (new) Notebook?"
   ]
  },
  {
   "cell_type": "code",
   "execution_count": 1,
   "metadata": {
    "collapsed": true
   },
   "outputs": [],
   "source": [
    "# Do it!  :)"
   ]
  },
  {
   "cell_type": "markdown",
   "metadata": {
    "collapsed": true
   },
   "source": [
    "## Prob 2\n",
    "\n",
    "If a projectile is fired at 30 m/s at an angle of 30 degrees, what are the x and y components?\n",
    "\n",
    "$$\\sin(\\theta) = \\frac{\\rm opposite}{\\rm hypotenuse}$$\n",
    "$$\\cos(\\theta) = \\frac{\\rm adjacent}{\\rm hypotenuse}$$\n",
    "$$\\tan(\\theta) = \\frac{\\rm opposite}{\\rm adjacent}$$"
   ]
  },
  {
   "cell_type": "code",
   "execution_count": 1,
   "metadata": {
    "collapsed": true
   },
   "outputs": [],
   "source": [
    "# Your code here."
   ]
  },
  {
   "cell_type": "markdown",
   "metadata": {},
   "source": [
    "## Prob 3\n",
    "\n",
    "Now write a function, based on the above that takes in velocity (magnitude) and the angle, and returns the $x$ and $y$ components. "
   ]
  },
  {
   "cell_type": "code",
   "execution_count": 2,
   "metadata": {
    "collapsed": true
   },
   "outputs": [],
   "source": [
    "# Your code here. "
   ]
  },
  {
   "cell_type": "markdown",
   "metadata": {},
   "source": [
    "## Prob 4\n",
    "\n",
    "Write a function that takes the coefficients ($a,b,c$) for the quadratic equation and returns the value of $x$. \n",
    "\n",
    "$$y= ax^2 + bx + x$$\n",
    "\n",
    "when $y=0$, then a solution for $x$ is \n",
    "\n",
    "$$x = \\frac{-b \\pm \\sqrt{b^2-4ac}}{2a}$$"
   ]
  },
  {
   "cell_type": "code",
   "execution_count": 3,
   "metadata": {
    "collapsed": true
   },
   "outputs": [],
   "source": [
    "# Your code here. "
   ]
  },
  {
   "cell_type": "code",
   "execution_count": null,
   "metadata": {
    "collapsed": true
   },
   "outputs": [],
   "source": []
  }
 ],
 "metadata": {
  "kernelspec": {
   "display_name": "Python 3",
   "language": "python",
   "name": "python3"
  },
  "language_info": {
   "codemirror_mode": {
    "name": "ipython",
    "version": 3
   },
   "file_extension": ".py",
   "mimetype": "text/x-python",
   "name": "python",
   "nbconvert_exporter": "python",
   "pygments_lexer": "ipython3",
   "version": "3.6.2"
  }
 },
 "nbformat": 4,
 "nbformat_minor": 1
}
