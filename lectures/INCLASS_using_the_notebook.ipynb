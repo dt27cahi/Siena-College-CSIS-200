{
 "cells": [
  {
   "cell_type": "markdown",
   "metadata": {},
   "source": [
    "# Problem 1 - Room a thousand years wide\n",
    "\n",
    "In 1991, Nirvana put out the album \"Nevermind\". Behind the radio and MTV smash-hit \"Smells Like Teen Spirit\", Nirvana and the burgeoning grunge music genre burst upon the national scene. However, to solely credit Nirvana for being the driving force behind grunge would be a mistake and would undersell the importance of Pearl Jam, The Smashing Pumpkins, and even lesser-known acts like Mudhoney and Screaming Trees. \n",
    "\n",
    "Nirvana was like a whale breaching the surface of the water in front of a boatload of whale watchers, gasping in awe as the cetacean rises from the depths and flings itself into a different world...*our world* as effortlessly as you or I taking a breath. Marveling at this creature, one cannot help but think about what else lies beneath the depths. If this whale can exist and thrive, how diverse, how amazing must the full ecosystem be? Are there even greater beasts down there?\n",
    "\n",
    "In October of 1991, Soundgarden relased the album \"Badmotorfinger\". While many would credit their follow-up album \"Superunknown\" and its hit single \"Black Hole Sun\" as being their breakthrough project, those people would be wrong. \"Badmotorfinger\" was representative of Soundgarden fully in control of their powers. A devastating album that laid waste to so much that came before and still continues to echo and resonate in our collective music consciousness, whether we know it or not. Soundgarden was mighty and they had gifted us with this masterpiece. If Nirvana was the whale that awes us as we gaze upon it, Soundgarden was the deeper power that we know exists, but can scarcely fathom (see what I did there?). Soundgarden was Leviathan. Soundgarden was the Midgard Serpent. Soundgarden was mighty Cthulhu slumbering beneath the waves, delivering a beautiful madness on all those who listened to their non-Euclidean tonalities. \n",
    "\n",
    "One of the songs on \"Badmotorfinger\" is titled \"Room a Thousand Years Wide\". Chris Cornell sings\n",
    "\n",
    "\"<i>Listen, hear, he is inside<br>\n",
    "One who lives while others lie<br>\n",
    "I close my eyes and walk a thousand years<br> \n",
    "A thousand years that aren't mine</i>\"\n",
    "\n",
    "<a href=\"https://www.youtube.com/watch?v=VGtCf4wwj3g\">YouTube</a>\n",
    "\n",
    "How wide is a Room a Thousand Years Wide?"
   ]
  },
  {
   "cell_type": "code",
   "execution_count": null,
   "metadata": {
    "collapsed": true
   },
   "outputs": [],
   "source": [
    "# Your code here"
   ]
  },
  {
   "cell_type": "markdown",
   "metadata": {},
   "source": [
    "Is this more or less than a light year?"
   ]
  },
  {
   "cell_type": "code",
   "execution_count": null,
   "metadata": {
    "collapsed": true
   },
   "outputs": [],
   "source": [
    "# Your code here?"
   ]
  },
  {
   "cell_type": "markdown",
   "metadata": {},
   "source": [
    "<i>Bonus!</i> How awesome is Soundgarden?"
   ]
  },
  {
   "cell_type": "markdown",
   "metadata": {},
   "source": [
    "Your comments here...."
   ]
  },
  {
   "cell_type": "markdown",
   "metadata": {},
   "source": [
    "# Problem 2 - Ramanujan and $\\pi$\n",
    "\n",
    "Srinivasa Ramanujan (<a href=\"http://en.wikipedia.org/wiki/Srinivasa_Ramanujan\">http://en.wikipedia.org/wiki/Srinivasa_Ramanujan</a>) is considered one of the greatest and most tragic mathematicians who has ever lived. His genius was discovered in a poor Indian village in the early 1900's and took him to England where his insight led him to many proofs and conjectures. However, the damp English weather did not suit him. He returned to India sick with tuberculosis and died at the young age of 32. \n",
    "\n",
    "During his short life, he discovered an infinite series which can be used to approximate $\\pi$. Each term leads to greater and greater precision. \n",
    "\n",
    "$$\\frac{1}{\\pi} = \\frac{2\\sqrt{2}}{9801} \\sum_{k=0}^\\infty  \\frac{(4k)!(1103+26390k)}{(k!)^4 396^{4k}}$$\n",
    "\n",
    "Remember that the $!$ operator is the factorial. \n",
    "\n",
    "$$x! = x \\cdot (x-1) \\cdot (x-2) \\cdot ... \\cdot 1$$"
   ]
  },
  {
   "cell_type": "markdown",
   "metadata": {},
   "source": [
    "What is the first term (k=0) in this series? <i>Hint!</i> $0!=1$"
   ]
  },
  {
   "cell_type": "code",
   "execution_count": null,
   "metadata": {
    "collapsed": true
   },
   "outputs": [],
   "source": [
    "# Your code here\n",
    "# \n",
    "# You may want to import the factorial function from the math library to make the code simpler.\n",
    "#"
   ]
  },
  {
   "cell_type": "markdown",
   "metadata": {},
   "source": [
    "What is the sum of the first and second (k=0 + k=1) terms in this series?"
   ]
  },
  {
   "cell_type": "code",
   "execution_count": null,
   "metadata": {
    "collapsed": true
   },
   "outputs": [],
   "source": [
    "# Your code here"
   ]
  },
  {
   "cell_type": "markdown",
   "metadata": {},
   "source": [
    "What is $\\frac{1}{\\pi}$? How close are you to this answer with just the first two terms?"
   ]
  },
  {
   "cell_type": "code",
   "execution_count": 8,
   "metadata": {
    "collapsed": true
   },
   "outputs": [],
   "source": [
    "# Your code here"
   ]
  }
 ],
 "metadata": {
  "kernelspec": {
   "display_name": "Python 2",
   "language": "python",
   "name": "python2"
  },
  "language_info": {
   "codemirror_mode": {
    "name": "ipython",
    "version": 2
   },
   "file_extension": ".py",
   "mimetype": "text/x-python",
   "name": "python",
   "nbconvert_exporter": "python",
   "pygments_lexer": "ipython2",
   "version": "2.7.12"
  }
 },
 "nbformat": 4,
 "nbformat_minor": 0
}
