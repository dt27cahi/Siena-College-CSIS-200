{
 "cells": [
  {
   "cell_type": "markdown",
   "metadata": {},
   "source": [
    "Let's review functions. \n",
    "\n",
    "If you're struggling, don't forget that there are [additional resources on the web](http://nbviewer.jupyter.org/url/www.maths.manchester.ac.uk/~vsego/python/03a-functions.ipynb).\n",
    "\n"
   ]
  },
  {
   "cell_type": "markdown",
   "metadata": {},
   "source": [
    "Let's write a function that converts an angle from degrees to radians. \n",
    "\n",
    "$$\\theta_{\\rm radians} = \\frac{\\theta_{\\rm degrees}}{360} \\times 2\\pi$$\n",
    "\n",
    "The function should take 1 argument as input and return 1 value for the output. "
   ]
  },
  {
   "cell_type": "code",
   "execution_count": null,
   "metadata": {
    "collapsed": true
   },
   "outputs": [],
   "source": [
    "\n",
    "    "
   ]
  },
  {
   "cell_type": "code",
   "execution_count": null,
   "metadata": {
    "collapsed": false
   },
   "outputs": [],
   "source": []
  },
  {
   "cell_type": "markdown",
   "metadata": {},
   "source": [
    "Next, let's write a function that as input the hypotenuse of a right triangle, an angle *in degrees*, and it prints out the opposite and adjacent of the angle. \n",
    "\n",
    "$${\\rm opposite} = {\\rm hypotenuse} \\times \\sin(\\theta)$$\n",
    "\n",
    "$${\\rm adjacent} = {\\rm hypotenuse} \\times \\cos(\\theta)$$\n",
    "\n",
    "If no angle is passed in, set the default to be 45 degrees.\n",
    "\n",
    "*Remember! The trig functions in Python expect the angle to be input in radians!*"
   ]
  },
  {
   "cell_type": "code",
   "execution_count": null,
   "metadata": {
    "collapsed": true
   },
   "outputs": [],
   "source": []
  },
  {
   "cell_type": "code",
   "execution_count": null,
   "metadata": {
    "collapsed": false
   },
   "outputs": [],
   "source": []
  },
  {
   "cell_type": "code",
   "execution_count": null,
   "metadata": {
    "collapsed": false
   },
   "outputs": [],
   "source": []
  },
  {
   "cell_type": "code",
   "execution_count": null,
   "metadata": {
    "collapsed": false
   },
   "outputs": [],
   "source": []
  },
  {
   "cell_type": "code",
   "execution_count": null,
   "metadata": {
    "collapsed": true
   },
   "outputs": [],
   "source": []
  },
  {
   "cell_type": "code",
   "execution_count": null,
   "metadata": {
    "collapsed": true
   },
   "outputs": [],
   "source": []
  }
 ],
 "metadata": {
  "kernelspec": {
   "display_name": "Python 2",
   "language": "python",
   "name": "python2"
  },
  "language_info": {
   "codemirror_mode": {
    "name": "ipython",
    "version": 2
   },
   "file_extension": ".py",
   "mimetype": "text/x-python",
   "name": "python",
   "nbconvert_exporter": "python",
   "pygments_lexer": "ipython2",
   "version": "2.7.12"
  }
 },
 "nbformat": 4,
 "nbformat_minor": 0
}
