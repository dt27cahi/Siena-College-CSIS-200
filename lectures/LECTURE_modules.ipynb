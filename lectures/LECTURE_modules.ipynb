{
 "cells": [
  {
   "cell_type": "markdown",
   "metadata": {},
   "source": [
    "There are a lot of great tools that other people have written using Python. In general, code like this is referred to as\n",
    "\n",
    "* Modules\n",
    "* Libraries\n",
    "\n",
    "  In Python, we refer to these helpful pieces of code as \"modules\"."
   ]
  },
  {
   "cell_type": "code",
   "execution_count": null,
   "metadata": {},
   "outputs": [],
   "source": [
    "# Sometimes, we can just use stuff already built into Python!\n",
    "\n",
    "numbers = [ 0.82054452,  0.77563871,  0.89303217,  0.56341612,  0.75247976, 0.39375927,  0.59411641,  0.91290181,  0.576153  ,  0.51612794]\n",
    "\n",
    "print(len(numbers))\n",
    "print(min(numbers))\n",
    "print(max(numbers))\n"
   ]
  },
  {
   "cell_type": "code",
   "execution_count": null,
   "metadata": {},
   "outputs": [],
   "source": [
    "# Other times, we need to bring in code from another module. There are different ways to do that. \n",
    "\n",
    "# THIS WAY: Import specifically what you want\n",
    "\n",
    "from math import cos,sqrt,pi\n",
    "\n",
    "print(cos(sqrt(pi*pi)))"
   ]
  },
  {
   "cell_type": "code",
   "execution_count": null,
   "metadata": {},
   "outputs": [],
   "source": [
    "# ANOTHER WAY: Import the module itself. \n",
    "# Good, but you need to type module name every time you want to access some of its functions.\n",
    "\n",
    "import math\n",
    "\n",
    "print(math.cos(math.sqrt(math.pi*math.pi)))"
   ]
  },
  {
   "cell_type": "code",
   "execution_count": null,
   "metadata": {},
   "outputs": [],
   "source": [
    "# ANOTHER SIMILAR WAY: Import the module itself...but with a shorter name (nickname?) \n",
    "# Make sure you don't pick a variable name you usually use for other stuff!\n",
    "#\n",
    "# This is *my* favourite way.\n",
    "\n",
    "import math as ma\n",
    "\n",
    "print(ma.cos(ma.sqrt(ma.pi*ma.pi)))"
   ]
  },
  {
   "cell_type": "code",
   "execution_count": null,
   "metadata": {},
   "outputs": [],
   "source": [
    "# AND STILL ANOTHER WAY: Import ALL THE CODE!\n",
    "\n",
    "# This is generally not recommended and might lead to conflicts if different modules have the same name for a function. \n",
    "\n",
    "from math import * \n",
    "# the * is a \"wildcard\" that grabs everything\n",
    "\n",
    "print(cos(sqrt(pi*pi)))"
   ]
  },
  {
   "cell_type": "markdown",
   "metadata": {},
   "source": [
    "Once you've imported a module, you can use the tab or help functions."
   ]
  },
  {
   "cell_type": "code",
   "execution_count": null,
   "metadata": {},
   "outputs": [],
   "source": [
    "import math\n",
    "\n",
    "# Uncomment the below and hit Tab after the period.\n",
    "\n",
    "#math."
   ]
  },
  {
   "cell_type": "markdown",
   "metadata": {},
   "source": [
    "And of course, online documentation is your best friend. \n",
    "\n",
    "[Python math module documentation](https://docs.python.org/2/library/math.html)"
   ]
  },
  {
   "cell_type": "markdown",
   "metadata": {},
   "source": [
    "The most widely used modules for most engineers and scientists are \n",
    "\n",
    "* Numpy (numerical python)\n",
    "* Scipy (scientific python)\n",
    "* Matplotlib (plotting)"
   ]
  },
  {
   "cell_type": "code",
   "execution_count": null,
   "metadata": {
    "collapsed": true
   },
   "outputs": [],
   "source": []
  }
 ],
 "metadata": {
  "kernelspec": {
   "display_name": "Python 3",
   "language": "python",
   "name": "python3"
  },
  "language_info": {
   "codemirror_mode": {
    "name": "ipython",
    "version": 3
   },
   "file_extension": ".py",
   "mimetype": "text/x-python",
   "name": "python",
   "nbconvert_exporter": "python",
   "pygments_lexer": "ipython3",
   "version": "3.6.2"
  }
 },
 "nbformat": 4,
 "nbformat_minor": 1
}
