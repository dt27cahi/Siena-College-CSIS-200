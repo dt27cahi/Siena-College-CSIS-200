{
 "cells": [
  {
   "cell_type": "markdown",
   "metadata": {},
   "source": [
    "# Review 3\n",
    "\n",
    "Fix all the code below. It's all broken!"
   ]
  },
  {
   "cell_type": "code",
   "execution_count": null,
   "metadata": {
    "collapsed": true
   },
   "outputs": [],
   "source": [
    "myage = 47 # Or fill in your age here\n",
    "\n",
    "Print \"%s\" % (myage)"
   ]
  },
  {
   "cell_type": "code",
   "execution_count": null,
   "metadata": {},
   "outputs": [],
   "source": [
    "song = \"Believer\"\n",
    "artist = \"Imagine Dragons\"\n",
    "\n",
    "Print \"%d is sung by \\n\\t %d\" % (song, artist)"
   ]
  },
  {
   "cell_type": "code",
   "execution_count": null,
   "metadata": {},
   "outputs": [],
   "source": [
    "from math import factorial\n",
    "\n",
    "factorial 4"
   ]
  },
  {
   "cell_type": "code",
   "execution_count": null,
   "metadata": {},
   "outputs": [],
   "source": [
    "angle = pi/4.0\n",
    "\n",
    "from math import pi,cos\n",
    "\n",
    "print cos(angle)"
   ]
  },
  {
   "cell_type": "markdown",
   "metadata": {},
   "source": [
    "After you fix the above cell, try restarting the kernel (***Kernel --> Restart***) and re-running the cell to\n",
    "make sure it works. "
   ]
  },
  {
   "cell_type": "code",
   "execution_count": null,
   "metadata": {
    "collapsed": true
   },
   "outputs": [],
   "source": [
    "# The 2015-2016 Cleveland Cavaliers (a professional basketball team) \n",
    "# won 51 regular season games and lost 31 regular season games. \n",
    "# Calculate what percentage of games they won and print it out to 1 decimal place. \n",
    "#\n",
    "# Your code here...\n",
    "\n"
   ]
  },
  {
   "cell_type": "markdown",
   "metadata": {},
   "source": [
    "A [financial statment](https://en.wikipedia.org/wiki/International_Financial_Reporting_Standards#Elements_of_financial_statements) is a record of how much you are worth. It includes how much money you or your business makes, how much money you or your business owes, and how much the things you own are worth. These can be broken down into different categories, only some of which are listed below. \n",
    "\n",
    "* **Asset**. This is something you own. This makes you money!  :)\n",
    "* **Liability**. This is something you might have to pay money on, like settling a law suit or owning a home that is worth less than you owe on the mortgage. Yikes! This costs you money.  :(\n",
    "* **Revenues**. This is how much money you make from your job or investments. This makes you money!  :)\n",
    "* **Expenses**. This is how much you have to spend either just to live or to run your business. This costs you money.  :(\n",
    "\n",
    "Suppose you own a home on which you owe \\$139,272 (liability) and which is worth \\$224,000 (asset!). You also own a car outright that is worth \\$6000 (asset!). You have a job that makes you \\$45,990 a year (revenue!), but you pay \\$13,284 a year in mortgage payments (expenses), \\$572 a year in car insurance (expenses), and \\$18,014 a year in additional expenses (expenses).\n",
    "\n",
    "Write an equation to calculate your worth for that year. \n",
    "\n",
    "Use variables for each part of your finanacial statement and give them names or abbreviations that make sense. \n",
    "\n",
    "Write the code so that it is easy to change any amount of money easily and the code will automatically recalculate your worth. "
   ]
  },
  {
   "cell_type": "code",
   "execution_count": null,
   "metadata": {
    "collapsed": true
   },
   "outputs": [],
   "source": [
    "# Your code here. "
   ]
  },
  {
   "cell_type": "markdown",
   "metadata": {},
   "source": [
    "Repeat the above calculation, but assuming you get a raise of \\$5000 a year, the value of your home goes up by \\$20000, but you get a dog and a cat, each of which costs you $1200 a year in expenses. \n",
    "\n",
    "Hopefully, you can cut and paste the code from above and make some minor changes!"
   ]
  },
  {
   "cell_type": "code",
   "execution_count": null,
   "metadata": {
    "collapsed": true
   },
   "outputs": [],
   "source": [
    "# Your code here."
   ]
  }
 ],
 "metadata": {
  "kernelspec": {
   "display_name": "Python 3",
   "language": "python",
   "name": "python3"
  },
  "language_info": {
   "codemirror_mode": {
    "name": "ipython",
    "version": 3
   },
   "file_extension": ".py",
   "mimetype": "text/x-python",
   "name": "python",
   "nbconvert_exporter": "python",
   "pygments_lexer": "ipython3",
   "version": "3.6.2"
  }
 },
 "nbformat": 4,
 "nbformat_minor": 1
}
