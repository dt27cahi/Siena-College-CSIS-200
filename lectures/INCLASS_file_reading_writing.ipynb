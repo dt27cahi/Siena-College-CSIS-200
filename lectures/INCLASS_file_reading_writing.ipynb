{
 "cells": [
  {
   "cell_type": "markdown",
   "metadata": {},
   "source": [
    "# Problem 1 - read in and plot the data\n",
    "\n",
    "Your challenge is this:\n",
    "\n",
    "* Read in the data from the demographics.csv file.\n",
    "* Pull out the gender, feet (height), inches, weight\n",
    "* Make a plot of weight versus total height in inches.\n",
    "    * Plot female as blue triangles\n",
    "    * Plot male as red circles\n",
    "* Add a legend\n",
    "* Label the axes\n",
    "* Scale the axes to see every point\n",
    "* Give the plot a title."
   ]
  },
  {
   "cell_type": "code",
   "execution_count": null,
   "metadata": {},
   "outputs": [],
   "source": [
    "# Using demographics.csv file from \n",
    "# http://evc-cit.info/psych018/r_intro/r_intro5.html"
   ]
  }
 ],
 "metadata": {
  "kernelspec": {
   "display_name": "Python 3",
   "language": "python",
   "name": "python3"
  },
  "language_info": {
   "codemirror_mode": {
    "name": "ipython",
    "version": 3
   },
   "file_extension": ".py",
   "mimetype": "text/x-python",
   "name": "python",
   "nbconvert_exporter": "python",
   "pygments_lexer": "ipython3",
   "version": "3.6.2"
  }
 },
 "nbformat": 4,
 "nbformat_minor": 1
}
